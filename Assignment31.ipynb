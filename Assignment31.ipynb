{
 "cells": [
  {
   "cell_type": "markdown",
   "id": "dac8f1bf",
   "metadata": {},
   "source": [
    "# ASSIGNMENT 3\n"
   ]
  },
  {
   "cell_type": "markdown",
   "id": "efaf5fdf",
   "metadata": {},
   "source": [
    "## Student No: EN 000775\n"
   ]
  },
  {
   "cell_type": "markdown",
   "id": "bad7ceb6",
   "metadata": {},
   "source": [
    "## Chathurika Nadeeshani Silva"
   ]
  },
  {
   "cell_type": "markdown",
   "id": "f90f55ab",
   "metadata": {},
   "source": [
    "## 2024/02/19"
   ]
  },
  {
   "cell_type": "markdown",
   "id": "2f1ba908",
   "metadata": {},
   "source": [
    "### Question no 1"
   ]
  },
  {
   "cell_type": "code",
   "execution_count": 40,
   "id": "df59fc00",
   "metadata": {},
   "outputs": [
    {
     "name": "stdout",
     "output_type": "stream",
     "text": [
      "30\n"
     ]
    }
   ],
   "source": [
    "multiplication = lambda num_1,num_2: num_1*num_2\n",
    "print(multiplication(5,6))"
   ]
  },
  {
   "cell_type": "markdown",
   "id": "6ab585a7",
   "metadata": {},
   "source": [
    "### Question no 2"
   ]
  },
  {
   "cell_type": "code",
   "execution_count": 41,
   "id": "421fa6a2",
   "metadata": {},
   "outputs": [
    {
     "name": "stdout",
     "output_type": "stream",
     "text": [
      "Enter the radius:10\n",
      "Area of this circle : 314.1592653589793\n"
     ]
    }
   ],
   "source": [
    "import math\n",
    "Radius = float(input(\"Enter the radius:\"))\n",
    "Area = math.pi * Radius**2\n",
    "print(\"Area of this circle :\",Area)\n"
   ]
  },
  {
   "cell_type": "markdown",
   "id": "8fcd2176",
   "metadata": {},
   "source": [
    "### Question no 3"
   ]
  },
  {
   "cell_type": "code",
   "execution_count": 42,
   "id": "f3f81e3f",
   "metadata": {},
   "outputs": [
    {
     "name": "stdout",
     "output_type": "stream",
     "text": [
      "Enter a charactor (p q r s): s\n",
      "Enter first number: 2\n",
      "Enter second number:5\n",
      "divission: =  0.4\n"
     ]
    }
   ],
   "source": [
    "Calculation = input(\"Enter a charactor (p q r s): \")\n",
    "num_1 = float(input(\"Enter first number: \"))\n",
    "num_2 = float(input(\"Enter second number:\"))\n",
    "if Calculation == \"p\":\n",
    "    print(\"sum : = \", num_1 + num_2)\n",
    "elif Calculation == \"q\":\n",
    "    print(\"subtraction: = \", num_1 - num_2)\n",
    "elif Calculation == \"r\":\n",
    "    print(\"multiplication: = \", num_1 * num_2)\n",
    "elif Calculation == \"s\":\n",
    "    print(\"divission: = \", num_1 / num_2)    \n",
    "else:\n",
    "    print(\"Error occured\")\n"
   ]
  },
  {
   "cell_type": "markdown",
   "id": "133246ac",
   "metadata": {},
   "source": [
    "### Question no 4\n"
   ]
  },
  {
   "cell_type": "code",
   "execution_count": 43,
   "id": "2ad9df69",
   "metadata": {},
   "outputs": [
    {
     "name": "stdout",
     "output_type": "stream",
     "text": [
      "Area of the rectangle: 50\n"
     ]
    }
   ],
   "source": [
    "class Rectangle:\n",
    "    def __init__(Self, Length, Width):\n",
    "        Self.Length = Length\n",
    "        Self.Width = Width\n",
    "\n",
    "    def Area(Self):\n",
    "        return Self.Length * Self.Width\n",
    "r = Rectangle(5,10)\n",
    "print(\"Area of the rectangle:\", r.Area())"
   ]
  },
  {
   "cell_type": "markdown",
   "id": "6d6a0203",
   "metadata": {},
   "source": [
    "### Question no 5"
   ]
  },
  {
   "cell_type": "code",
   "execution_count": 44,
   "id": "0af4d767",
   "metadata": {},
   "outputs": [
    {
     "name": "stdout",
     "output_type": "stream",
     "text": [
      "The area is: 25\n",
      "This is a: square\n"
     ]
    }
   ],
   "source": [
    "class Shape:\n",
    "    def __init__(self, name):\n",
    "        self.name = name\n",
    "\n",
    "    def area(self):\n",
    "        return 0\n",
    "\n",
    "class Square(Shape):\n",
    "    def __init__(self, name, length):\n",
    "        super().__init__(name)\n",
    "        self.length = length\n",
    "\n",
    "    def area(self):\n",
    "        return self.length ** 2\n",
    "\n",
    "    def describe(self):\n",
    "        return f\"This is a: {self.name}\"\n",
    "S = Square('square', 5)\n",
    "print(\"The area is:\", s.area())\n",
    "print(s.describe())\n",
    "\n",
    " "
   ]
  },
  {
   "cell_type": "code",
   "execution_count": null,
   "id": "425f601c",
   "metadata": {},
   "outputs": [],
   "source": []
  },
  {
   "cell_type": "code",
   "execution_count": null,
   "id": "615aca26",
   "metadata": {},
   "outputs": [],
   "source": []
  },
  {
   "cell_type": "code",
   "execution_count": null,
   "id": "67229c3d",
   "metadata": {},
   "outputs": [],
   "source": []
  },
  {
   "cell_type": "code",
   "execution_count": null,
   "id": "a9f5f379",
   "metadata": {},
   "outputs": [],
   "source": []
  },
  {
   "cell_type": "code",
   "execution_count": null,
   "id": "e724420b",
   "metadata": {},
   "outputs": [],
   "source": []
  }
 ],
 "metadata": {
  "kernelspec": {
   "display_name": "Python 3 (ipykernel)",
   "language": "python",
   "name": "python3"
  },
  "language_info": {
   "codemirror_mode": {
    "name": "ipython",
    "version": 3
   },
   "file_extension": ".py",
   "mimetype": "text/x-python",
   "name": "python",
   "nbconvert_exporter": "python",
   "pygments_lexer": "ipython3",
   "version": "3.11.5"
  }
 },
 "nbformat": 4,
 "nbformat_minor": 5
}
